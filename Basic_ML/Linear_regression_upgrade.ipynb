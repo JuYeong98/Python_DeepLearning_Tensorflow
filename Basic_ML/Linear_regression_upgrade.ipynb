{
 "cells": [
  {
   "cell_type": "markdown",
   "id": "9377fc62",
   "metadata": {},
   "source": [
    "### linear regression - Eager (normalization, decay, l2_loss)\n",
    "- linear regression에 Normalization, Learning Decay, L2_loss를 적용\n",
    "\n",
    "#### 기본 Library 선언 및 TensorFlow 버전 확인¶"
   ]
  },
  {
   "cell_type": "code",
   "execution_count": 1,
   "id": "b649c7b5",
   "metadata": {},
   "outputs": [
    {
     "name": "stdout",
     "output_type": "stream",
     "text": [
      "2.5.0\n"
     ]
    }
   ],
   "source": [
    "import numpy as np\n",
    "import matplotlib.pyplot as plt\n",
    "%matplotlib inline\n",
    "import tensorflow as tf\n",
    "\n",
    "tf.random.set_seed(777)  # for reproducibility\n",
    "\n",
    "print(tf.__version__)"
   ]
  },
  {
   "cell_type": "markdown",
   "id": "aa6025b4",
   "metadata": {},
   "source": [
    "#### 정규화를 위한 함수 (최대 최소값이 1과 0이되도록 Scaling한다)"
   ]
  },
  {
   "cell_type": "code",
   "execution_count": 2,
   "id": "bbb05176",
   "metadata": {},
   "outputs": [],
   "source": [
    "def normalization(data):\n",
    "    numerator = data - np.min(data, 0)\n",
    "    denominator = np.max(data, 0) - np.min(data, 0)\n",
    "    return numerator / denominator"
   ]
  },
  {
   "cell_type": "markdown",
   "id": "f5de0fec",
   "metadata": {},
   "source": [
    "#### 사용할 Data입니다\n",
    "- X Data(feature)의 값은 해당 배열의 첫번째 값부터 4번째 값까지로 정의 되고 Y Data(label)는 해당 배열의 마지막 값을 정의(5번째 값)"
   ]
  },
  {
   "cell_type": "code",
   "execution_count": 3,
   "id": "96e0c583",
   "metadata": {},
   "outputs": [
    {
     "data": {
      "image/png": "[encoded data removed]",
      "text/plain": [
       "<Figure size 432x288 with 1 Axes>"
      ]
     },
     "metadata": {
      "needs_background": "light"
     },
     "output_type": "display_data"
    }
   ],
   "source": [
    "xy = np.array([[828.659973, 833.450012, 908100, 828.349976, 831.659973],\n",
    "               [823.02002, 828.070007, 1828100, 821.655029, 828.070007],\n",
    "               [819.929993, 824.400024, 1438100, 818.97998, 824.159973],\n",
    "               [816, 820.958984, 1008100, 815.48999, 819.23999],\n",
    "               [819.359985, 823, 1188100, 818.469971, 818.97998],\n",
    "               [819, 823, 1198100, 816, 820.450012],\n",
    "               [811.700012, 815.25, 1098100, 809.780029, 813.669983],\n",
    "               [809.51001, 816.659973, 1398100, 804.539978, 809.559998]])\n",
    "\n",
    "x_train = xy[:, 0:-1]\n",
    "y_train = xy[:, [-1]]\n",
    "\n",
    "plt.plot(x_train, 'ro')\n",
    "plt.plot(y_train)\n",
    "plt.show()"
   ]
  },
  {
   "cell_type": "markdown",
   "id": "947f203a",
   "metadata": {},
   "source": [
    "\n",
    "- Data에 표준화를 적용하여 실행한다"
   ]
  },
  {
   "cell_type": "code",
   "execution_count": 4,
   "id": "7a4882c1",
   "metadata": {},
   "outputs": [
    {
     "name": "stdout",
     "output_type": "stream",
     "text": [
      "[[1.         1.         0.         1.         1.        ]\n",
      " [0.70548491 0.70439552 1.         0.71881783 0.83755792]\n",
      " [0.54412549 0.50274824 0.57608696 0.60646801 0.6606331 ]\n",
      " [0.33890353 0.31368023 0.10869565 0.45989134 0.43800918]\n",
      " [0.51436    0.4258239  0.30434783 0.58504805 0.42624401]\n",
      " [0.49556179 0.4258239  0.31521739 0.48131134 0.49276137]\n",
      " [0.11436064 0.         0.20652174 0.22007776 0.18597238]\n",
      " [0.         0.07747099 0.5326087  0.         0.        ]]\n"
     ]
    },
    {
     "data": {
      "image/png": "[encoded data removed]",
      "text/plain": [
       "<Figure size 432x288 with 1 Axes>"
      ]
     },
     "metadata": {
      "needs_background": "light"
     },
     "output_type": "display_data"
    }
   ],
   "source": [
    "xy = normalization(xy)\n",
    "print(xy)\n",
    "x_train = xy[:, 0:-1]\n",
    "y_train = xy[:, [-1]]\n",
    "\n",
    "plt.plot(x_train, 'ro')\n",
    "plt.plot(y_train)\n",
    "\n",
    "plt.show()"
   ]
  },
  {
   "cell_type": "markdown",
   "id": "20a1624f",
   "metadata": {},
   "source": [
    "### 위 Data를 기준으로 Linear Regression 모델을 만들도록 하겠습니다\n",
    "- Tensorflow data API를 통해 학습시킬 값들을 담는다 (Batch Size는 한번에 학습시킬 Size로 정한다)\n",
    "- X(features),Y(labels)는 실재 학습에 쓰일 Data (연산을 위해 Type를 맞춰준다)"
   ]
  },
  {
   "cell_type": "code",
   "execution_count": 5,
   "id": "3b1a386c",
   "metadata": {},
   "outputs": [],
   "source": [
    "dataset = tf.data.Dataset.from_tensor_slices((x_train, y_train)).batch(len(x_train))"
   ]
  },
  {
   "cell_type": "markdown",
   "id": "062a5e2c",
   "metadata": {},
   "source": [
    "- W와 b은 학습을 통해 생성되는 모델에 쓰이는 Wegith와 Bias (초기값을 variable : 0이나 Random값으로 가능 tf.random_normal / tf.zeros)"
   ]
  },
  {
   "cell_type": "code",
   "execution_count": 6,
   "id": "c7ab5ee7",
   "metadata": {},
   "outputs": [],
   "source": [
    "W = tf.Variable(tf.random.normal((4, 1)), dtype=tf.float32)\n",
    "b = tf.Variable(tf.random.normal((1,)), dtype=tf.float32)"
   ]
  },
  {
   "cell_type": "code",
   "execution_count": 7,
   "id": "ebac3995",
   "metadata": {},
   "outputs": [],
   "source": [
    "#Linear Regression의 Hyphthesis를 정의한다 (y=Wx+b)\n",
    "\n",
    "\n",
    "def linearReg_fn(features):\n",
    "    hypothesis = tf.matmul(features, W) + b\n",
    "    return hypothesis"
   ]
  },
  {
   "cell_type": "markdown",
   "id": "7f57eae4",
   "metadata": {},
   "source": [
    "\n",
    "#### L2 loss를 적용할 함수를 정의합니다\n",
    "- Weight의 수가 많아지면 수만큼 더한다 tf.nn.l2_loss(W2) + tf.nn.l2_loss(W3)"
   ]
  },
  {
   "cell_type": "code",
   "execution_count": 8,
   "id": "8a473852",
   "metadata": {},
   "outputs": [],
   "source": [
    "def l2_loss(loss, beta = 0.01):\n",
    "    W_reg = tf.nn.l2_loss(W) # output = sum(t ** 2) / 2\n",
    "    loss = tf.reduce_mean(loss + W_reg * beta)\n",
    "    return loss"
   ]
  },
  {
   "cell_type": "markdown",
   "id": "512942e6",
   "metadata": {},
   "source": [
    "\n",
    "- 가설을 검증할 Cost 함수를 정의합니다(Mean Square Error를 사용)"
   ]
  },
  {
   "cell_type": "code",
   "execution_count": 9,
   "id": "2077f3c1",
   "metadata": {},
   "outputs": [],
   "source": [
    "def loss_fn(hypothesis, features, labels, flag = False):\n",
    "    cost = tf.reduce_mean(tf.square(hypothesis - labels))\n",
    "    if(flag):\n",
    "        cost = l2_loss(cost)\n",
    "    return cost"
   ]
  },
  {
   "cell_type": "markdown",
   "id": "3395e9a6",
   "metadata": {},
   "source": [
    "#### Learning Rate 값을 조정하기 위한 Learning Decay 설정\n",
    "5개 파라미터 설정\n",
    "- starter_learning_rate : 최초 학습시 사용될 learning rate (0.1로 설정하여 0.96씩 감소하는지 확인)\n",
    "- global_step : 현재 학습 횟수\n",
    "- 1000 : 곱할 횟수 정의 (1000번에 마다 적용)\n",
    "- 0.96 : 기존 learning에 곱할 값\n",
    "- 적용유무 decayed_learning_rate = learning_rate * decay_rate ^ (global_step / decay_steps)\n",
    "- decayed_learning_rate = learning_rate * decay_rate ^ (global_step / decay_steps)"
   ]
  },
  {
   "cell_type": "code",
   "execution_count": 10,
   "id": "3a6f261f",
   "metadata": {},
   "outputs": [],
   "source": [
    "is_decay = True\n",
    "starter_learning_rate = 0.1\n",
    "\n",
    "if(is_decay):    \n",
    "    learning_rate = tf.keras.optimizers.schedules.ExponentialDecay(initial_learning_rate=starter_learning_rate,\n",
    "                                                                  decay_steps=50,\n",
    "                                                                  decay_rate=0.96,\n",
    "                                                                  staircase=True)\n",
    "    optimizer = tf.keras.optimizers.SGD(learning_rate)\n",
    "else:\n",
    "    optimizer = tf.keras.optimizers.SGD(learning_rate=starter_learning_rate)\n",
    "\n",
    "def grad(hypothesis, features, labels, l2_flag):\n",
    "    with tf.GradientTape() as tape:\n",
    "        loss_value = loss_fn(linearReg_fn(features),features,labels, l2_flag)\n",
    "    return tape.gradient(loss_value, [W,b]), loss_value"
   ]
  },
  {
   "cell_type": "markdown",
   "id": "205c2ff6",
   "metadata": {},
   "source": [
    "#### TensorFlow를 통해 학습을 진행합니다"
   ]
  },
  {
   "cell_type": "code",
   "execution_count": 11,
   "id": "c4f5f210",
   "metadata": {},
   "outputs": [
    {
     "name": "stdout",
     "output_type": "stream",
     "text": [
      "Iter: 0, Loss: 1.7346\n",
      "Iter: 10, Loss: 0.0745\n",
      "Iter: 20, Loss: 0.0438\n",
      "Iter: 30, Loss: 0.0273\n",
      "Iter: 40, Loss: 0.0181\n",
      "Iter: 50, Loss: 0.0128\n",
      "Iter: 60, Loss: 0.0099\n",
      "Iter: 70, Loss: 0.0080\n",
      "Iter: 80, Loss: 0.0068\n",
      "Iter: 90, Loss: 0.0060\n",
      "Iter: 100, Loss: 0.0054\n"
     ]
    }
   ],
   "source": [
    "EPOCHS = 101\n",
    "\n",
    "for step in range(EPOCHS):\n",
    "    for features, labels  in dataset:\n",
    "        features = tf.cast(features, tf.float32)\n",
    "        labels = tf.cast(labels, tf.float32)\n",
    "        grads, loss_value = grad(linearReg_fn(features), features, labels, False)\n",
    "        optimizer.apply_gradients(grads_and_vars=zip(grads,[W,b]))        \n",
    "    if step % 10 == 0:\n",
    "        print(\"Iter: {}, Loss: {:.4f}\".format(step, loss_value))"
   ]
  },
  {
   "cell_type": "code",
   "execution_count": null,
   "id": "264866a8",
   "metadata": {},
   "outputs": [],
   "source": []
  }
 ],
 "metadata": {
  "kernelspec": {
   "display_name": "Python 3",
   "language": "python",
   "name": "python3"
  },
  "language_info": {
   "codemirror_mode": {
    "name": "ipython",
    "version": 3
   },
   "file_extension": ".py",
   "mimetype": "text/x-python",
   "name": "python",
   "nbconvert_exporter": "python",
   "pygments_lexer": "ipython3",
   "version": "3.8.8"
  }
 },
 "nbformat": 4,
 "nbformat_minor": 5
}
